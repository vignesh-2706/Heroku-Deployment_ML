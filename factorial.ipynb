{
 "cells": [],
 "metadata": {},
 "nbformat": 4,
 "nbformat_minor": 4
}
print(" we have seen ")
